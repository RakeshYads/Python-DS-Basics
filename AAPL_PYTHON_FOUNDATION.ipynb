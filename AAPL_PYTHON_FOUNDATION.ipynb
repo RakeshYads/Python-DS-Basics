{
 "cells": [
  {
   "cell_type": "markdown",
   "metadata": {},
   "source": [
    "In this code, we are going through Pandas Basics. Using methods like read_csv(),head(),info(),shape(),counts()\n",
    "Import Required Libraries Pandas, MatplotLib"
   ]
  },
  {
   "cell_type": "code",
   "execution_count": 10,
   "metadata": {},
   "outputs": [],
   "source": [
    "import pandas as pd\n",
    "import matplotlib.pyplot as plt\n",
    "%matplotlib inline"
   ]
  },
  {
   "cell_type": "markdown",
   "metadata": {},
   "source": [
    "read_csv is an important pandas function to read csv files and do operations on it."
   ]
  },
  {
   "cell_type": "code",
   "execution_count": 2,
   "metadata": {},
   "outputs": [],
   "source": [
    "aapl = pd.read_csv('AAPL.csv')"
   ]
  },
  {
   "cell_type": "markdown",
   "metadata": {},
   "source": [
    "Viewing the first 10 rows of the DataFrame"
   ]
  },
  {
   "cell_type": "code",
   "execution_count": 3,
   "metadata": {},
   "outputs": [
    {
     "data": {
      "text/html": [
       "<div>\n",
       "<style scoped>\n",
       "    .dataframe tbody tr th:only-of-type {\n",
       "        vertical-align: middle;\n",
       "    }\n",
       "\n",
       "    .dataframe tbody tr th {\n",
       "        vertical-align: top;\n",
       "    }\n",
       "\n",
       "    .dataframe thead th {\n",
       "        text-align: right;\n",
       "    }\n",
       "</style>\n",
       "<table border=\"1\" class=\"dataframe\">\n",
       "  <thead>\n",
       "    <tr style=\"text-align: right;\">\n",
       "      <th></th>\n",
       "      <th>Date</th>\n",
       "      <th>Open</th>\n",
       "      <th>High</th>\n",
       "      <th>Low</th>\n",
       "      <th>Close</th>\n",
       "      <th>Adj Close</th>\n",
       "      <th>Volume</th>\n",
       "    </tr>\n",
       "  </thead>\n",
       "  <tbody>\n",
       "    <tr>\n",
       "      <th>0</th>\n",
       "      <td>2014-09-29</td>\n",
       "      <td>100.589996</td>\n",
       "      <td>100.690002</td>\n",
       "      <td>98.040001</td>\n",
       "      <td>99.620003</td>\n",
       "      <td>93.514290</td>\n",
       "      <td>142718700</td>\n",
       "    </tr>\n",
       "    <tr>\n",
       "      <th>1</th>\n",
       "      <td>2014-10-06</td>\n",
       "      <td>99.949997</td>\n",
       "      <td>102.379997</td>\n",
       "      <td>98.309998</td>\n",
       "      <td>100.730003</td>\n",
       "      <td>94.556244</td>\n",
       "      <td>280258200</td>\n",
       "    </tr>\n",
       "    <tr>\n",
       "      <th>2</th>\n",
       "      <td>2014-10-13</td>\n",
       "      <td>101.330002</td>\n",
       "      <td>101.779999</td>\n",
       "      <td>95.180000</td>\n",
       "      <td>97.669998</td>\n",
       "      <td>91.683792</td>\n",
       "      <td>358539800</td>\n",
       "    </tr>\n",
       "    <tr>\n",
       "      <th>3</th>\n",
       "      <td>2014-10-20</td>\n",
       "      <td>98.320000</td>\n",
       "      <td>105.489998</td>\n",
       "      <td>98.220001</td>\n",
       "      <td>105.220001</td>\n",
       "      <td>98.771042</td>\n",
       "      <td>358532900</td>\n",
       "    </tr>\n",
       "    <tr>\n",
       "      <th>4</th>\n",
       "      <td>2014-10-27</td>\n",
       "      <td>104.849998</td>\n",
       "      <td>108.040001</td>\n",
       "      <td>104.699997</td>\n",
       "      <td>108.000000</td>\n",
       "      <td>101.380676</td>\n",
       "      <td>220230600</td>\n",
       "    </tr>\n",
       "    <tr>\n",
       "      <th>5</th>\n",
       "      <td>2014-11-03</td>\n",
       "      <td>108.220001</td>\n",
       "      <td>110.300003</td>\n",
       "      <td>107.720001</td>\n",
       "      <td>109.010002</td>\n",
       "      <td>102.328766</td>\n",
       "      <td>199952900</td>\n",
       "    </tr>\n",
       "    <tr>\n",
       "      <th>6</th>\n",
       "      <td>2014-11-10</td>\n",
       "      <td>109.019997</td>\n",
       "      <td>114.190002</td>\n",
       "      <td>108.400002</td>\n",
       "      <td>114.180000</td>\n",
       "      <td>107.646675</td>\n",
       "      <td>205166700</td>\n",
       "    </tr>\n",
       "    <tr>\n",
       "      <th>7</th>\n",
       "      <td>2014-11-17</td>\n",
       "      <td>114.269997</td>\n",
       "      <td>117.570000</td>\n",
       "      <td>113.300003</td>\n",
       "      <td>116.470001</td>\n",
       "      <td>109.805626</td>\n",
       "      <td>233414700</td>\n",
       "    </tr>\n",
       "    <tr>\n",
       "      <th>8</th>\n",
       "      <td>2014-11-24</td>\n",
       "      <td>116.849998</td>\n",
       "      <td>119.750000</td>\n",
       "      <td>116.620003</td>\n",
       "      <td>118.930000</td>\n",
       "      <td>112.124863</td>\n",
       "      <td>181873900</td>\n",
       "    </tr>\n",
       "    <tr>\n",
       "      <th>9</th>\n",
       "      <td>2014-12-01</td>\n",
       "      <td>118.809998</td>\n",
       "      <td>119.250000</td>\n",
       "      <td>111.269997</td>\n",
       "      <td>115.000000</td>\n",
       "      <td>108.419746</td>\n",
       "      <td>266589700</td>\n",
       "    </tr>\n",
       "  </tbody>\n",
       "</table>\n",
       "</div>"
      ],
      "text/plain": [
       "         Date        Open        High         Low       Close   Adj Close  \\\n",
       "0  2014-09-29  100.589996  100.690002   98.040001   99.620003   93.514290   \n",
       "1  2014-10-06   99.949997  102.379997   98.309998  100.730003   94.556244   \n",
       "2  2014-10-13  101.330002  101.779999   95.180000   97.669998   91.683792   \n",
       "3  2014-10-20   98.320000  105.489998   98.220001  105.220001   98.771042   \n",
       "4  2014-10-27  104.849998  108.040001  104.699997  108.000000  101.380676   \n",
       "5  2014-11-03  108.220001  110.300003  107.720001  109.010002  102.328766   \n",
       "6  2014-11-10  109.019997  114.190002  108.400002  114.180000  107.646675   \n",
       "7  2014-11-17  114.269997  117.570000  113.300003  116.470001  109.805626   \n",
       "8  2014-11-24  116.849998  119.750000  116.620003  118.930000  112.124863   \n",
       "9  2014-12-01  118.809998  119.250000  111.269997  115.000000  108.419746   \n",
       "\n",
       "      Volume  \n",
       "0  142718700  \n",
       "1  280258200  \n",
       "2  358539800  \n",
       "3  358532900  \n",
       "4  220230600  \n",
       "5  199952900  \n",
       "6  205166700  \n",
       "7  233414700  \n",
       "8  181873900  \n",
       "9  266589700  "
      ]
     },
     "execution_count": 3,
     "metadata": {},
     "output_type": "execute_result"
    }
   ],
   "source": [
    "aapl.head(10)"
   ]
  },
  {
   "cell_type": "markdown",
   "metadata": {},
   "source": [
    "From above output it can be seen that Date is considered as column. We will convert Date column to Index. "
   ]
  },
  {
   "cell_type": "code",
   "execution_count": 4,
   "metadata": {},
   "outputs": [],
   "source": [
    "aapl = pd.read_csv('AAPL.csv',index_col = 'Date',parse_dates = True)"
   ]
  },
  {
   "cell_type": "code",
   "execution_count": 5,
   "metadata": {},
   "outputs": [
    {
     "data": {
      "text/html": [
       "<div>\n",
       "<style scoped>\n",
       "    .dataframe tbody tr th:only-of-type {\n",
       "        vertical-align: middle;\n",
       "    }\n",
       "\n",
       "    .dataframe tbody tr th {\n",
       "        vertical-align: top;\n",
       "    }\n",
       "\n",
       "    .dataframe thead th {\n",
       "        text-align: right;\n",
       "    }\n",
       "</style>\n",
       "<table border=\"1\" class=\"dataframe\">\n",
       "  <thead>\n",
       "    <tr style=\"text-align: right;\">\n",
       "      <th></th>\n",
       "      <th>Open</th>\n",
       "      <th>High</th>\n",
       "      <th>Low</th>\n",
       "      <th>Close</th>\n",
       "      <th>Adj Close</th>\n",
       "      <th>Volume</th>\n",
       "    </tr>\n",
       "    <tr>\n",
       "      <th>Date</th>\n",
       "      <th></th>\n",
       "      <th></th>\n",
       "      <th></th>\n",
       "      <th></th>\n",
       "      <th></th>\n",
       "      <th></th>\n",
       "    </tr>\n",
       "  </thead>\n",
       "  <tbody>\n",
       "    <tr>\n",
       "      <th>2014-09-29</th>\n",
       "      <td>100.589996</td>\n",
       "      <td>100.690002</td>\n",
       "      <td>98.040001</td>\n",
       "      <td>99.620003</td>\n",
       "      <td>93.514290</td>\n",
       "      <td>142718700</td>\n",
       "    </tr>\n",
       "    <tr>\n",
       "      <th>2014-10-06</th>\n",
       "      <td>99.949997</td>\n",
       "      <td>102.379997</td>\n",
       "      <td>98.309998</td>\n",
       "      <td>100.730003</td>\n",
       "      <td>94.556244</td>\n",
       "      <td>280258200</td>\n",
       "    </tr>\n",
       "    <tr>\n",
       "      <th>2014-10-13</th>\n",
       "      <td>101.330002</td>\n",
       "      <td>101.779999</td>\n",
       "      <td>95.180000</td>\n",
       "      <td>97.669998</td>\n",
       "      <td>91.683792</td>\n",
       "      <td>358539800</td>\n",
       "    </tr>\n",
       "    <tr>\n",
       "      <th>2014-10-20</th>\n",
       "      <td>98.320000</td>\n",
       "      <td>105.489998</td>\n",
       "      <td>98.220001</td>\n",
       "      <td>105.220001</td>\n",
       "      <td>98.771042</td>\n",
       "      <td>358532900</td>\n",
       "    </tr>\n",
       "    <tr>\n",
       "      <th>2014-10-27</th>\n",
       "      <td>104.849998</td>\n",
       "      <td>108.040001</td>\n",
       "      <td>104.699997</td>\n",
       "      <td>108.000000</td>\n",
       "      <td>101.380676</td>\n",
       "      <td>220230600</td>\n",
       "    </tr>\n",
       "  </tbody>\n",
       "</table>\n",
       "</div>"
      ],
      "text/plain": [
       "                  Open        High         Low       Close   Adj Close  \\\n",
       "Date                                                                     \n",
       "2014-09-29  100.589996  100.690002   98.040001   99.620003   93.514290   \n",
       "2014-10-06   99.949997  102.379997   98.309998  100.730003   94.556244   \n",
       "2014-10-13  101.330002  101.779999   95.180000   97.669998   91.683792   \n",
       "2014-10-20   98.320000  105.489998   98.220001  105.220001   98.771042   \n",
       "2014-10-27  104.849998  108.040001  104.699997  108.000000  101.380676   \n",
       "\n",
       "               Volume  \n",
       "Date                   \n",
       "2014-09-29  142718700  \n",
       "2014-10-06  280258200  \n",
       "2014-10-13  358539800  \n",
       "2014-10-20  358532900  \n",
       "2014-10-27  220230600  "
      ]
     },
     "execution_count": 5,
     "metadata": {},
     "output_type": "execute_result"
    }
   ],
   "source": [
    "aapl.head()"
   ]
  },
  {
   "cell_type": "markdown",
   "metadata": {},
   "source": [
    "To know the data types of DataFrame, we can use info()"
   ]
  },
  {
   "cell_type": "code",
   "execution_count": 6,
   "metadata": {},
   "outputs": [
    {
     "name": "stdout",
     "output_type": "stream",
     "text": [
      "<class 'pandas.core.frame.DataFrame'>\n",
      "DatetimeIndex: 184 entries, 2014-09-29 to 2018-03-29\n",
      "Data columns (total 6 columns):\n",
      " #   Column     Non-Null Count  Dtype  \n",
      "---  ------     --------------  -----  \n",
      " 0   Open       184 non-null    float64\n",
      " 1   High       184 non-null    float64\n",
      " 2   Low        184 non-null    float64\n",
      " 3   Close      184 non-null    float64\n",
      " 4   Adj Close  184 non-null    float64\n",
      " 5   Volume     184 non-null    int64  \n",
      "dtypes: float64(5), int64(1)\n",
      "memory usage: 10.1 KB\n"
     ]
    }
   ],
   "source": [
    "aapl.info()"
   ]
  },
  {
   "cell_type": "markdown",
   "metadata": {},
   "source": [
    "Shape of the DataFrame(no of rows, no of columns)"
   ]
  },
  {
   "cell_type": "code",
   "execution_count": 8,
   "metadata": {},
   "outputs": [
    {
     "data": {
      "text/plain": [
       "(184, 6)"
      ]
     },
     "execution_count": 8,
     "metadata": {},
     "output_type": "execute_result"
    }
   ],
   "source": [
    "aapl.shape"
   ]
  },
  {
   "cell_type": "markdown",
   "metadata": {},
   "source": [
    "value_counts() return a Series containing counts of unique values. The resulting object will be in descending order so that the first element is the most frequently-occurring element. Excludes NA values by default"
   ]
  },
  {
   "cell_type": "code",
   "execution_count": 9,
   "metadata": {},
   "outputs": [
    {
     "data": {
      "text/plain": [
       "Open        High        Low         Close       Adj Close   Volume   \n",
       "92.389999   95.430000   91.650002   95.220001   92.355438   212707200    1\n",
       "137.139999  140.279999  136.279999  139.779999  137.603180  127474000    1\n",
       "129.250000  130.279999  125.760002  126.599998  119.827042  246938500    1\n",
       "129.500000  130.570007  123.360001  127.620003  120.792480  271892000    1\n",
       "130.020004  133.600006  126.610001  128.460007  121.587555  368216200    1\n",
       "                                                                        ..\n",
       "112.599998  112.800003  105.199997  105.989998  99.925285   303607000    1\n",
       "112.709999  114.559998  112.279999  114.059998  111.227943  126029400    1\n",
       "112.730003  112.750000  109.559998  111.040001  106.016205  184885000    1\n",
       "113.290001  116.730003  112.489998  115.970001  113.671158  195015600    1\n",
       "180.289993  183.500000  177.619995  178.020004  178.020004  155417500    1\n",
       "Length: 184, dtype: int64"
      ]
     },
     "execution_count": 9,
     "metadata": {},
     "output_type": "execute_result"
    }
   ],
   "source": [
    "aapl.value_counts()"
   ]
  },
  {
   "cell_type": "markdown",
   "metadata": {},
   "source": [
    "To convert any column to array. Need to use below syntax."
   ]
  },
  {
   "cell_type": "code",
   "execution_count": 11,
   "metadata": {},
   "outputs": [],
   "source": [
    "close_array = aapl['Close'].values"
   ]
  },
  {
   "cell_type": "code",
   "execution_count": 12,
   "metadata": {},
   "outputs": [
    {
     "data": {
      "text/plain": [
       "numpy.ndarray"
      ]
     },
     "execution_count": 12,
     "metadata": {},
     "output_type": "execute_result"
    }
   ],
   "source": [
    "type(close_array)"
   ]
  },
  {
   "cell_type": "markdown",
   "metadata": {},
   "source": [
    "Defining the Figure Size of the image and plotting the array within that figure.\n",
    "Plotting on Numpy Array. The x-axis is the index value of ndarray"
   ]
  },
  {
   "cell_type": "code",
   "execution_count": 14,
   "metadata": {},
   "outputs": [
    {
     "data": {
      "image/png": "[encoded data removed]",
      "text/plain": [
       "<Figure size 288x288 with 1 Axes>"
      ]
     },
     "metadata": {
      "needs_background": "light"
     },
     "output_type": "display_data"
    }
   ],
   "source": [
    "plt.figure(figsize = (4,4))\n",
    "plt.plot(close_array)\n",
    "plt.show()"
   ]
  },
  {
   "cell_type": "markdown",
   "metadata": {},
   "source": [
    "Plotting on Series. The x-axis is the index value of new Series defined below"
   ]
  },
  {
   "cell_type": "code",
   "execution_count": 16,
   "metadata": {},
   "outputs": [],
   "source": [
    "close_series = aapl['Close']"
   ]
  },
  {
   "cell_type": "code",
   "execution_count": 19,
   "metadata": {},
   "outputs": [
    {
     "data": {
      "image/png": "[encoded data removed]",
      "text/plain": [
       "<Figure size 648x288 with 1 Axes>"
      ]
     },
     "metadata": {
      "needs_background": "light"
     },
     "output_type": "display_data"
    }
   ],
   "source": [
    "plt.figure(figsize = (9,4))\n",
    "plt.plot(close_series)\n",
    "plt.show()"
   ]
  },
  {
   "cell_type": "markdown",
   "metadata": {},
   "source": [
    "Plotting on DataFrame. The x-axis is the index value of DataFrame"
   ]
  },
  {
   "cell_type": "code",
   "execution_count": 23,
   "metadata": {},
   "outputs": [
    {
     "data": {
      "image/png": "[encoded data removed]",
      "text/plain": [
       "<Figure size 648x288 with 1 Axes>"
      ]
     },
     "metadata": {
      "needs_background": "light"
     },
     "output_type": "display_data"
    }
   ],
   "source": [
    "plt.figure(figsize = (9,4))\n",
    "plt.plot(aapl)\n",
    "plt.yscale('log')\n",
    "plt.show()"
   ]
  },
  {
   "cell_type": "code",
   "execution_count": 39,
   "metadata": {},
   "outputs": [
    {
     "data": {
      "image/png": "[encoded data removed]",
      "text/plain": [
       "<Figure size 432x288 with 1 Axes>"
      ]
     },
     "metadata": {
      "needs_background": "light"
     },
     "output_type": "display_data"
    }
   ],
   "source": [
    "aapl['Open'].plot(color = 'b',legend = True)\n",
    "aapl['Close'].plot(color = 'g',legend = True)\n",
    "#plt.yscale('log')\n",
    "#plt.axis(('2015','2017',0,100))\n",
    "plt.savefig('aapl.jpg')\n",
    "plt.show()"
   ]
  }
 ],
 "metadata": {
  "kernelspec": {
   "display_name": "Python 3",
   "language": "python",
   "name": "python3"
  },
  "language_info": {
   "codemirror_mode": {
    "name": "ipython",
    "version": 3
   },
   "file_extension": ".py",
   "mimetype": "text/x-python",
   "name": "python",
   "nbconvert_exporter": "python",
   "pygments_lexer": "ipython3",
   "version": "3.7.6"
  }
 },
 "nbformat": 4,
 "nbformat_minor": 4
}
